{
 "cells": [
  {
   "cell_type": "code",
   "execution_count": 10,
   "metadata": {},
   "outputs": [],
   "source": [
    "import requests\n",
    "from requests import Request, Response\n",
    "from bs4 import BeautifulSoup\n",
    "from bs4.element import Tag\n",
    "import re"
   ]
  },
  {
   "cell_type": "code",
   "execution_count": 11,
   "metadata": {},
   "outputs": [],
   "source": [
    "def get_posts_url(soup: BeautifulSoup):\n",
    "    # 抓取貼文列表\n",
    "    links_data = soup.select('a') \n",
    "    links_data = list(filter(lambda x : x.get('class') == None, links_data))\n",
    "    titles = list(filter(lambda x : x['href'].endswith('html'), links_data))\n",
    "    title_relate_urls = list(map(lambda tag : tag['href'], titles))\n",
    "    return title_relate_urls\n",
    "\n",
    "# 取得貼文內容\n",
    "def get_post(soup: BeautifulSoup):\n",
    "    post = soup.select('meta')\n",
    "    post_result = list(filter(lambda tag : tag.get(\"property\") != None and (\"title\" in tag.get(\"property\") or \"description\" in tag.get(\"property\")), post))\n",
    "    post_result = {k.get('property'): k.get('content') for k in post_result}\n",
    "    return post_result\n",
    "# 取得推文內容\n",
    "def get_pushes(soup: BeautifulSoup):\n",
    "    # 抓取推文內容\n",
    "    pushes_element: list[Tag] = soup.find_all([\"div\"], attrs={\"class\" : \"push\"})\n",
    "    pushes_element = list(map(lambda push_element : push_element. find_all(['span']), pushes_element))\n",
    "    pushes_result = list(map(lambda push_element : {tag.get('class')[-1]: tag.get_text() for tag in push_element}, pushes_element))\n",
    "    return pushes_result\n",
    "\n",
    "# 取得文章留言\n",
    "def get_post_with_pushes(soup: BeautifulSoup):\n",
    "    post = get_post(soup=soup)\n",
    "    post['pushes'] = get_pushes(soup=soup)\n",
    "    return post"
   ]
  },
  {
   "cell_type": "code",
   "execution_count": 12,
   "metadata": {},
   "outputs": [],
   "source": [
    "num_of_pages = 10"
   ]
  },
  {
   "cell_type": "code",
   "execution_count": 13,
   "metadata": {},
   "outputs": [],
   "source": [
    "web_root = \"https://www.ptt.cc\"\n",
    "group = \"/bbs/Gossiping\"\n",
    "current_session = requests.Session()\n",
    "pass_data = {\n",
    "    'from':'/bbs/Gossiping/index.html',\n",
    "    'yes': 'yes'\n",
    "}\n",
    "r_pass: Response = current_session.post(\"https://www.ptt.cc/ask/over18\", data=pass_data)"
   ]
  },
  {
   "cell_type": "code",
   "execution_count": 14,
   "metadata": {},
   "outputs": [],
   "source": [
    "# 找尋上頁\n",
    "soup = BeautifulSoup(r_pass.content, 'html.parser')\n",
    "tag : Tag = soup.find('a', attrs={\"class\" : \"btn wide\"}, string = re.compile(\"上頁\"))\n",
    "current_url = tag['href']"
   ]
  },
  {
   "cell_type": "code",
   "execution_count": 15,
   "metadata": {},
   "outputs": [],
   "source": [
    "posts_urls = get_posts_url(soup)"
   ]
  },
  {
   "cell_type": "code",
   "execution_count": 16,
   "metadata": {},
   "outputs": [],
   "source": [
    "for _ in range(10, 1, -1):\n",
    "    target_url = f\"{web_root}{current_url}\"\n",
    "    r_page = current_session.get(target_url)\n",
    "    soup = BeautifulSoup(r_page.content, 'html.parser')\n",
    "    posts_urls += get_posts_url(soup)\n",
    "    tag : Tag = soup.find('a', attrs={\"class\" : \"btn wide\"}, string = re.compile(\"上頁\"))\n",
    "    current_url = tag['href']"
   ]
  },
  {
   "cell_type": "code",
   "execution_count": 19,
   "metadata": {},
   "outputs": [],
   "source": [
    "# 取得所有貼文的網址\n",
    "pre_fetch_urls = list(map(lambda path : f\"{web_root}{path}\", posts_urls))"
   ]
  },
  {
   "cell_type": "code",
   "execution_count": 21,
   "metadata": {},
   "outputs": [
    {
     "data": {
      "text/plain": [
       "['https://www.ptt.cc/bbs/Gossiping/M.1706970084.A.D36.html',\n",
       " 'https://www.ptt.cc/bbs/Gossiping/M.1706970106.A.05F.html',\n",
       " 'https://www.ptt.cc/bbs/Gossiping/M.1706970307.A.DF0.html',\n",
       " 'https://www.ptt.cc/bbs/Gossiping/M.1706970419.A.C70.html',\n",
       " 'https://www.ptt.cc/bbs/Gossiping/M.1706970545.A.1D2.html',\n",
       " 'https://www.ptt.cc/bbs/Gossiping/M.1706970549.A.B6D.html',\n",
       " 'https://www.ptt.cc/bbs/Gossiping/M.1699632792.A.2CB.html',\n",
       " 'https://www.ptt.cc/bbs/Gossiping/M.1705931902.A.098.html',\n",
       " 'https://www.ptt.cc/bbs/Gossiping/M.1706766460.A.35C.html',\n",
       " 'https://www.ptt.cc/bbs/Gossiping/M.1706959211.A.063.html',\n",
       " 'https://www.ptt.cc/bbs/Gossiping/M.1706969014.A.EDD.html',\n",
       " 'https://www.ptt.cc/bbs/Gossiping/M.1706969157.A.00C.html',\n",
       " 'https://www.ptt.cc/bbs/Gossiping/M.1706969215.A.033.html',\n",
       " 'https://www.ptt.cc/bbs/Gossiping/M.1706969249.A.070.html',\n",
       " 'https://www.ptt.cc/bbs/Gossiping/M.1706969399.A.7B4.html',\n",
       " 'https://www.ptt.cc/bbs/Gossiping/M.1706969426.A.453.html',\n",
       " 'https://www.ptt.cc/bbs/Gossiping/M.1706969471.A.B57.html',\n",
       " 'https://www.ptt.cc/bbs/Gossiping/M.1706969504.A.40E.html',\n",
       " 'https://www.ptt.cc/bbs/Gossiping/M.1706969545.A.464.html',\n",
       " 'https://www.ptt.cc/bbs/Gossiping/M.1706969645.A.84A.html',\n",
       " 'https://www.ptt.cc/bbs/Gossiping/M.1706969696.A.28A.html',\n",
       " 'https://www.ptt.cc/bbs/Gossiping/M.1706969725.A.60A.html',\n",
       " 'https://www.ptt.cc/bbs/Gossiping/M.1706969808.A.CCA.html',\n",
       " 'https://www.ptt.cc/bbs/Gossiping/M.1706969852.A.6A6.html',\n",
       " 'https://www.ptt.cc/bbs/Gossiping/M.1706969884.A.F33.html',\n",
       " 'https://www.ptt.cc/bbs/Gossiping/M.1706970036.A.6CA.html',\n",
       " 'https://www.ptt.cc/bbs/Gossiping/M.1706970042.A.BE6.html',\n",
       " 'https://www.ptt.cc/bbs/Gossiping/M.1706970068.A.12A.html',\n",
       " 'https://www.ptt.cc/bbs/Gossiping/M.1706970069.A.970.html',\n",
       " 'https://www.ptt.cc/bbs/Gossiping/M.1706968051.A.4EF.html',\n",
       " 'https://www.ptt.cc/bbs/Gossiping/M.1706968088.A.843.html',\n",
       " 'https://www.ptt.cc/bbs/Gossiping/M.1706968331.A.BA6.html',\n",
       " 'https://www.ptt.cc/bbs/Gossiping/M.1706968339.A.6AB.html',\n",
       " 'https://www.ptt.cc/bbs/Gossiping/M.1706968344.A.66A.html',\n",
       " 'https://www.ptt.cc/bbs/Gossiping/M.1706968375.A.1C9.html',\n",
       " 'https://www.ptt.cc/bbs/Gossiping/M.1706968379.A.71B.html',\n",
       " 'https://www.ptt.cc/bbs/Gossiping/M.1706968466.A.574.html',\n",
       " 'https://www.ptt.cc/bbs/Gossiping/M.1706968472.A.A19.html',\n",
       " 'https://www.ptt.cc/bbs/Gossiping/M.1706968472.A.87E.html',\n",
       " 'https://www.ptt.cc/bbs/Gossiping/M.1706968567.A.51A.html',\n",
       " 'https://www.ptt.cc/bbs/Gossiping/M.1706968658.A.E0B.html',\n",
       " 'https://www.ptt.cc/bbs/Gossiping/M.1706968692.A.C9D.html',\n",
       " 'https://www.ptt.cc/bbs/Gossiping/M.1706968739.A.0E5.html',\n",
       " 'https://www.ptt.cc/bbs/Gossiping/M.1706968743.A.BAA.html',\n",
       " 'https://www.ptt.cc/bbs/Gossiping/M.1706968744.A.AE4.html',\n",
       " 'https://www.ptt.cc/bbs/Gossiping/M.1706968897.A.660.html',\n",
       " 'https://www.ptt.cc/bbs/Gossiping/M.1706968904.A.521.html',\n",
       " 'https://www.ptt.cc/bbs/Gossiping/M.1706968930.A.B7B.html',\n",
       " 'https://www.ptt.cc/bbs/Gossiping/M.1706968971.A.C49.html',\n",
       " 'https://www.ptt.cc/bbs/Gossiping/M.1706967165.A.AC7.html',\n",
       " 'https://www.ptt.cc/bbs/Gossiping/M.1706967173.A.7F0.html',\n",
       " 'https://www.ptt.cc/bbs/Gossiping/M.1706967239.A.4D3.html',\n",
       " 'https://www.ptt.cc/bbs/Gossiping/M.1706967284.A.4C4.html',\n",
       " 'https://www.ptt.cc/bbs/Gossiping/M.1706967299.A.91D.html',\n",
       " 'https://www.ptt.cc/bbs/Gossiping/M.1706967327.A.47C.html',\n",
       " 'https://www.ptt.cc/bbs/Gossiping/M.1706967350.A.9E0.html',\n",
       " 'https://www.ptt.cc/bbs/Gossiping/M.1706967386.A.FC7.html',\n",
       " 'https://www.ptt.cc/bbs/Gossiping/M.1706967423.A.656.html',\n",
       " 'https://www.ptt.cc/bbs/Gossiping/M.1706967621.A.03B.html',\n",
       " 'https://www.ptt.cc/bbs/Gossiping/M.1706967624.A.3F3.html',\n",
       " 'https://www.ptt.cc/bbs/Gossiping/M.1706967653.A.8EA.html',\n",
       " 'https://www.ptt.cc/bbs/Gossiping/M.1706967665.A.74E.html',\n",
       " 'https://www.ptt.cc/bbs/Gossiping/M.1706967725.A.6ED.html',\n",
       " 'https://www.ptt.cc/bbs/Gossiping/M.1706967786.A.E6B.html',\n",
       " 'https://www.ptt.cc/bbs/Gossiping/M.1706967839.A.277.html',\n",
       " 'https://www.ptt.cc/bbs/Gossiping/M.1706967865.A.A47.html',\n",
       " 'https://www.ptt.cc/bbs/Gossiping/M.1706967888.A.90B.html',\n",
       " 'https://www.ptt.cc/bbs/Gossiping/M.1706967918.A.E53.html',\n",
       " 'https://www.ptt.cc/bbs/Gossiping/M.1706968001.A.4D5.html',\n",
       " 'https://www.ptt.cc/bbs/Gossiping/M.1706965789.A.50C.html',\n",
       " 'https://www.ptt.cc/bbs/Gossiping/M.1706965814.A.D30.html',\n",
       " 'https://www.ptt.cc/bbs/Gossiping/M.1706965836.A.6C9.html',\n",
       " 'https://www.ptt.cc/bbs/Gossiping/M.1706966042.A.B7D.html',\n",
       " 'https://www.ptt.cc/bbs/Gossiping/M.1706966068.A.CA1.html',\n",
       " 'https://www.ptt.cc/bbs/Gossiping/M.1706966146.A.C62.html',\n",
       " 'https://www.ptt.cc/bbs/Gossiping/M.1706966168.A.00F.html',\n",
       " 'https://www.ptt.cc/bbs/Gossiping/M.1706966239.A.95F.html',\n",
       " 'https://www.ptt.cc/bbs/Gossiping/M.1706966313.A.521.html',\n",
       " 'https://www.ptt.cc/bbs/Gossiping/M.1706966387.A.B7E.html',\n",
       " 'https://www.ptt.cc/bbs/Gossiping/M.1706966393.A.491.html',\n",
       " 'https://www.ptt.cc/bbs/Gossiping/M.1706966419.A.725.html',\n",
       " 'https://www.ptt.cc/bbs/Gossiping/M.1706966718.A.F6E.html',\n",
       " 'https://www.ptt.cc/bbs/Gossiping/M.1706966735.A.C0F.html',\n",
       " 'https://www.ptt.cc/bbs/Gossiping/M.1706966820.A.EB8.html',\n",
       " 'https://www.ptt.cc/bbs/Gossiping/M.1706966949.A.92B.html',\n",
       " 'https://www.ptt.cc/bbs/Gossiping/M.1706966977.A.5F2.html',\n",
       " 'https://www.ptt.cc/bbs/Gossiping/M.1706966990.A.00F.html',\n",
       " 'https://www.ptt.cc/bbs/Gossiping/M.1706967022.A.5DC.html',\n",
       " 'https://www.ptt.cc/bbs/Gossiping/M.1706967052.A.E3E.html',\n",
       " 'https://www.ptt.cc/bbs/Gossiping/M.1706965047.A.720.html',\n",
       " 'https://www.ptt.cc/bbs/Gossiping/M.1706965052.A.F05.html',\n",
       " 'https://www.ptt.cc/bbs/Gossiping/M.1706965068.A.066.html',\n",
       " 'https://www.ptt.cc/bbs/Gossiping/M.1706965079.A.96C.html',\n",
       " 'https://www.ptt.cc/bbs/Gossiping/M.1706965099.A.96A.html',\n",
       " 'https://www.ptt.cc/bbs/Gossiping/M.1706965261.A.FC9.html',\n",
       " 'https://www.ptt.cc/bbs/Gossiping/M.1706965295.A.DE2.html',\n",
       " 'https://www.ptt.cc/bbs/Gossiping/M.1706965295.A.FC7.html',\n",
       " 'https://www.ptt.cc/bbs/Gossiping/M.1706965318.A.6D5.html',\n",
       " 'https://www.ptt.cc/bbs/Gossiping/M.1706965383.A.D9D.html',\n",
       " 'https://www.ptt.cc/bbs/Gossiping/M.1706965437.A.A0B.html',\n",
       " 'https://www.ptt.cc/bbs/Gossiping/M.1706965464.A.AD7.html',\n",
       " 'https://www.ptt.cc/bbs/Gossiping/M.1706965557.A.CD9.html',\n",
       " 'https://www.ptt.cc/bbs/Gossiping/M.1706965652.A.CBA.html',\n",
       " 'https://www.ptt.cc/bbs/Gossiping/M.1706965670.A.A4D.html',\n",
       " 'https://www.ptt.cc/bbs/Gossiping/M.1706965672.A.E6B.html',\n",
       " 'https://www.ptt.cc/bbs/Gossiping/M.1706965673.A.F2C.html',\n",
       " 'https://www.ptt.cc/bbs/Gossiping/M.1706965693.A.F33.html',\n",
       " 'https://www.ptt.cc/bbs/Gossiping/M.1706965756.A.47F.html',\n",
       " 'https://www.ptt.cc/bbs/Gossiping/M.1706965777.A.C4C.html',\n",
       " 'https://www.ptt.cc/bbs/Gossiping/M.1706964346.A.3B0.html',\n",
       " 'https://www.ptt.cc/bbs/Gossiping/M.1706964485.A.A77.html',\n",
       " 'https://www.ptt.cc/bbs/Gossiping/M.1706964516.A.8CF.html',\n",
       " 'https://www.ptt.cc/bbs/Gossiping/M.1706964537.A.531.html',\n",
       " 'https://www.ptt.cc/bbs/Gossiping/M.1706964548.A.D61.html',\n",
       " 'https://www.ptt.cc/bbs/Gossiping/M.1706964572.A.A54.html',\n",
       " 'https://www.ptt.cc/bbs/Gossiping/M.1706964588.A.50D.html',\n",
       " 'https://www.ptt.cc/bbs/Gossiping/M.1706964633.A.AC6.html',\n",
       " 'https://www.ptt.cc/bbs/Gossiping/M.1706964638.A.B94.html',\n",
       " 'https://www.ptt.cc/bbs/Gossiping/M.1706964649.A.7EA.html',\n",
       " 'https://www.ptt.cc/bbs/Gossiping/M.1706964678.A.112.html',\n",
       " 'https://www.ptt.cc/bbs/Gossiping/M.1706964721.A.167.html',\n",
       " 'https://www.ptt.cc/bbs/Gossiping/M.1706964722.A.7EB.html',\n",
       " 'https://www.ptt.cc/bbs/Gossiping/M.1706964778.A.67D.html',\n",
       " 'https://www.ptt.cc/bbs/Gossiping/M.1706964829.A.52A.html',\n",
       " 'https://www.ptt.cc/bbs/Gossiping/M.1706964922.A.56A.html',\n",
       " 'https://www.ptt.cc/bbs/Gossiping/M.1706964989.A.13F.html',\n",
       " 'https://www.ptt.cc/bbs/Gossiping/M.1706965022.A.CC9.html',\n",
       " 'https://www.ptt.cc/bbs/Gossiping/M.1706965023.A.A30.html',\n",
       " 'https://www.ptt.cc/bbs/Gossiping/M.1706963332.A.DCB.html',\n",
       " 'https://www.ptt.cc/bbs/Gossiping/M.1706963511.A.7CF.html',\n",
       " 'https://www.ptt.cc/bbs/Gossiping/M.1706963534.A.03C.html',\n",
       " 'https://www.ptt.cc/bbs/Gossiping/M.1706963547.A.5F0.html',\n",
       " 'https://www.ptt.cc/bbs/Gossiping/M.1706963606.A.129.html',\n",
       " 'https://www.ptt.cc/bbs/Gossiping/M.1706963640.A.2C8.html',\n",
       " 'https://www.ptt.cc/bbs/Gossiping/M.1706963740.A.C70.html',\n",
       " 'https://www.ptt.cc/bbs/Gossiping/M.1706963792.A.43F.html',\n",
       " 'https://www.ptt.cc/bbs/Gossiping/M.1706963794.A.508.html',\n",
       " 'https://www.ptt.cc/bbs/Gossiping/M.1706963861.A.10A.html',\n",
       " 'https://www.ptt.cc/bbs/Gossiping/M.1706963891.A.140.html',\n",
       " 'https://www.ptt.cc/bbs/Gossiping/M.1706963944.A.C22.html',\n",
       " 'https://www.ptt.cc/bbs/Gossiping/M.1706963947.A.B41.html',\n",
       " 'https://www.ptt.cc/bbs/Gossiping/M.1706964079.A.108.html',\n",
       " 'https://www.ptt.cc/bbs/Gossiping/M.1706964118.A.B94.html',\n",
       " 'https://www.ptt.cc/bbs/Gossiping/M.1706964145.A.8B3.html',\n",
       " 'https://www.ptt.cc/bbs/Gossiping/M.1706964148.A.89C.html',\n",
       " 'https://www.ptt.cc/bbs/Gossiping/M.1706964205.A.883.html',\n",
       " 'https://www.ptt.cc/bbs/Gossiping/M.1706964222.A.7E1.html',\n",
       " 'https://www.ptt.cc/bbs/Gossiping/M.1706964269.A.B69.html',\n",
       " 'https://www.ptt.cc/bbs/Gossiping/M.1706962426.A.D40.html',\n",
       " 'https://www.ptt.cc/bbs/Gossiping/M.1706962537.A.5D4.html',\n",
       " 'https://www.ptt.cc/bbs/Gossiping/M.1706962553.A.E62.html',\n",
       " 'https://www.ptt.cc/bbs/Gossiping/M.1706962612.A.C27.html',\n",
       " 'https://www.ptt.cc/bbs/Gossiping/M.1706962614.A.328.html',\n",
       " 'https://www.ptt.cc/bbs/Gossiping/M.1706962645.A.C4B.html',\n",
       " 'https://www.ptt.cc/bbs/Gossiping/M.1706962688.A.A15.html',\n",
       " 'https://www.ptt.cc/bbs/Gossiping/M.1706962791.A.DF1.html',\n",
       " 'https://www.ptt.cc/bbs/Gossiping/M.1706962800.A.093.html',\n",
       " 'https://www.ptt.cc/bbs/Gossiping/M.1706962815.A.21D.html',\n",
       " 'https://www.ptt.cc/bbs/Gossiping/M.1706962872.A.F41.html',\n",
       " 'https://www.ptt.cc/bbs/Gossiping/M.1706962943.A.50F.html',\n",
       " 'https://www.ptt.cc/bbs/Gossiping/M.1706962943.A.8EB.html',\n",
       " 'https://www.ptt.cc/bbs/Gossiping/M.1706963002.A.533.html',\n",
       " 'https://www.ptt.cc/bbs/Gossiping/M.1706963034.A.AF3.html',\n",
       " 'https://www.ptt.cc/bbs/Gossiping/M.1706963071.A.E0F.html',\n",
       " 'https://www.ptt.cc/bbs/Gossiping/M.1706963078.A.B74.html',\n",
       " 'https://www.ptt.cc/bbs/Gossiping/M.1706963149.A.8B5.html',\n",
       " 'https://www.ptt.cc/bbs/Gossiping/M.1706963288.A.B8D.html',\n",
       " 'https://www.ptt.cc/bbs/Gossiping/M.1706961558.A.E07.html',\n",
       " 'https://www.ptt.cc/bbs/Gossiping/M.1706961698.A.F47.html',\n",
       " 'https://www.ptt.cc/bbs/Gossiping/M.1706961702.A.E95.html',\n",
       " 'https://www.ptt.cc/bbs/Gossiping/M.1706961791.A.E7D.html',\n",
       " 'https://www.ptt.cc/bbs/Gossiping/M.1706961894.A.095.html',\n",
       " 'https://www.ptt.cc/bbs/Gossiping/M.1706961969.A.D00.html',\n",
       " 'https://www.ptt.cc/bbs/Gossiping/M.1706961999.A.DEA.html',\n",
       " 'https://www.ptt.cc/bbs/Gossiping/M.1706962045.A.055.html',\n",
       " 'https://www.ptt.cc/bbs/Gossiping/M.1706962059.A.0D9.html',\n",
       " 'https://www.ptt.cc/bbs/Gossiping/M.1706962076.A.65E.html',\n",
       " 'https://www.ptt.cc/bbs/Gossiping/M.1706962123.A.BFD.html',\n",
       " 'https://www.ptt.cc/bbs/Gossiping/M.1706962164.A.28A.html',\n",
       " 'https://www.ptt.cc/bbs/Gossiping/M.1706962176.A.20C.html',\n",
       " 'https://www.ptt.cc/bbs/Gossiping/M.1706962195.A.914.html',\n",
       " 'https://www.ptt.cc/bbs/Gossiping/M.1706962211.A.B9E.html',\n",
       " 'https://www.ptt.cc/bbs/Gossiping/M.1706962332.A.154.html',\n",
       " 'https://www.ptt.cc/bbs/Gossiping/M.1706962353.A.A3B.html',\n",
       " 'https://www.ptt.cc/bbs/Gossiping/M.1706962392.A.7C7.html',\n",
       " 'https://www.ptt.cc/bbs/Gossiping/M.1706962404.A.809.html',\n",
       " 'https://www.ptt.cc/bbs/Gossiping/M.1706962408.A.3AB.html']"
      ]
     },
     "execution_count": 21,
     "metadata": {},
     "output_type": "execute_result"
    }
   ],
   "source": [
    "pre_fetch_urls"
   ]
  },
  {
   "cell_type": "code",
   "execution_count": 22,
   "metadata": {},
   "outputs": [],
   "source": [
    "# 開始抓取資料\n",
    "html_soups = list(map(lambda target_url : BeautifulSoup(current_session.get(target_url).content, 'html.parser'), pre_fetch_urls))"
   ]
  },
  {
   "cell_type": "code",
   "execution_count": 23,
   "metadata": {},
   "outputs": [],
   "source": [
    "# 轉換資料為Json格式\n",
    "results = list(map(lambda soup : get_post_with_pushes(soup=soup), html_soups))"
   ]
  },
  {
   "cell_type": "code",
   "execution_count": 26,
   "metadata": {},
   "outputs": [
    {
     "name": "stdout",
     "output_type": "stream",
     "text": [
      "Post Count = 187\n"
     ]
    }
   ],
   "source": [
    "# 抓取結果\n",
    "print(f\"Post Count = {len(results)}\")"
   ]
  },
  {
   "cell_type": "code",
   "execution_count": 28,
   "metadata": {},
   "outputs": [],
   "source": [
    "# 儲存為檔案\n",
    "import json"
   ]
  },
  {
   "cell_type": "code",
   "execution_count": 32,
   "metadata": {},
   "outputs": [],
   "source": [
    "with open('data.json', \"w\", encoding='utf-8') as f:\n",
    "    json.dump(results, f, ensure_ascii=False)"
   ]
  }
 ],
 "metadata": {
  "kernelspec": {
   "display_name": ".env",
   "language": "python",
   "name": "python3"
  },
  "language_info": {
   "codemirror_mode": {
    "name": "ipython",
    "version": 3
   },
   "file_extension": ".py",
   "mimetype": "text/x-python",
   "name": "python",
   "nbconvert_exporter": "python",
   "pygments_lexer": "ipython3",
   "version": "3.10.7"
  }
 },
 "nbformat": 4,
 "nbformat_minor": 2
}
